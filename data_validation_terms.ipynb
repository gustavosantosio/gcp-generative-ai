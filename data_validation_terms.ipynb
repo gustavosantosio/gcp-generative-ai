{
  "nbformat": 4,
  "nbformat_minor": 0,
  "metadata": {
    "colab": {
      "private_outputs": true,
      "provenance": [],
      "authorship_tag": "ABX9TyNPb2Uy9nKRARWKWUfi3TRq"
    },
    "kernelspec": {
      "name": "python3",
      "display_name": "Python 3"
    },
    "language_info": {
      "name": "python"
    }
  },
  "cells": [
    {
      "cell_type": "code",
      "execution_count": null,
      "metadata": {
        "id": "6t-I0nbTNFe9"
      },
      "outputs": [],
      "source": [
        "import os\n",
        "import pandas as pd"
      ]
    },
    {
      "cell_type": "code",
      "source": [
        "csv_file = '/content/dou_2025-04-07T16-54-54+00-00.csv'\n",
        "json_file = '/content/dou_2025-04-07T16-54-54+00-00.json'"
      ],
      "metadata": {
        "id": "St-rleWZOjHw"
      },
      "execution_count": null,
      "outputs": []
    },
    {
      "cell_type": "code",
      "source": [
        "df_csv = pd.read_csv(csv_file)\n",
        "df_json = pd.read_json(json_file)"
      ],
      "metadata": {
        "id": "CpJ-BQsWPBUW"
      },
      "execution_count": null,
      "outputs": []
    },
    {
      "cell_type": "code",
      "source": [
        "df_csv.head()"
      ],
      "metadata": {
        "id": "Zx9yWME3PJfO"
      },
      "execution_count": null,
      "outputs": []
    },
    {
      "cell_type": "code",
      "source": [
        "df_csv.describe()"
      ],
      "metadata": {
        "id": "nr4e4R8-Ps8Q"
      },
      "execution_count": null,
      "outputs": []
    },
    {
      "cell_type": "code",
      "source": [
        "#df_csv['termo_busca'].count()\n",
        "df_csv['termo_busca'].count()"
      ],
      "metadata": {
        "id": "GpRwbH2HQLxS"
      },
      "execution_count": null,
      "outputs": []
    }
  ]
}